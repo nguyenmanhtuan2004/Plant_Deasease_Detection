{
 "cells": [
  {
   "cell_type": "code",
   "execution_count": 62,
   "metadata": {},
   "outputs": [],
   "source": [
    "import tensorflow as tf\n",
    "import matplotlib.pyplot as plt\n",
    "import pandas as pd\n",
    "import seaborn as sns\n"
   ]
  },
  {
   "cell_type": "markdown",
   "metadata": {},
   "source": [
    "**Training Image Preprocessing**"
   ]
  },
  {
   "cell_type": "code",
   "execution_count": 63,
   "metadata": {},
   "outputs": [
    {
     "name": "stdout",
     "output_type": "stream",
     "text": [
      "Found 10993 files belonging to 6 classes.\n"
     ]
    }
   ],
   "source": [
    "training_set = tf.keras.utils.image_dataset_from_directory(\n",
    "    'data/train',\n",
    "    labels=\"inferred\",\n",
    "    label_mode=\"categorical\",\n",
    "    class_names=None,\n",
    "    color_mode=\"rgb\",\n",
    "    batch_size=32,\n",
    "    image_size=(224, 224),\n",
    "    shuffle=True,\n",
    "    seed=None,\n",
    "    validation_split=None,\n",
    "    subset=None,\n",
    "    interpolation=\"bilinear\",\n",
    "    follow_links=False,\n",
    "    crop_to_aspect_ratio=False\n",
    ")"
   ]
  },
  {
   "cell_type": "markdown",
   "metadata": {},
   "source": [
    "**Validation Image Preprocessing**"
   ]
  },
  {
   "cell_type": "code",
   "execution_count": 64,
   "metadata": {},
   "outputs": [
    {
     "name": "stdout",
     "output_type": "stream",
     "text": [
      "Found 2788 files belonging to 6 classes.\n"
     ]
    }
   ],
   "source": [
    "validation_set = tf.keras.utils.image_dataset_from_directory(\n",
    "    'data/val',\n",
    "    labels=\"inferred\",\n",
    "    label_mode=\"categorical\",\n",
    "    class_names=None,\n",
    "    color_mode=\"rgb\",\n",
    "    batch_size=32,\n",
    "    image_size=(224, 224),\n",
    "    shuffle=True,\n",
    "    seed=None,\n",
    "    validation_split=None,\n",
    "    subset=None,\n",
    "    interpolation=\"bilinear\",\n",
    "    follow_links=False,\n",
    "    crop_to_aspect_ratio=False\n",
    ")"
   ]
  },
  {
   "cell_type": "code",
   "execution_count": 65,
   "metadata": {
    "scrolled": true
   },
   "outputs": [
    {
     "name": "stdout",
     "output_type": "stream",
     "text": [
      "tf.Tensor(\n",
      "[[[[  0.         0.         0.      ]\n",
      "   [  0.         0.         0.      ]\n",
      "   [  0.         0.         0.      ]\n",
      "   ...\n",
      "   [  0.         0.         0.      ]\n",
      "   [  0.         0.         0.      ]\n",
      "   [  0.         0.         0.      ]]\n",
      "\n",
      "  [[  0.         0.         0.      ]\n",
      "   [  0.         0.         0.      ]\n",
      "   [  0.         0.         0.      ]\n",
      "   ...\n",
      "   [  0.         0.         0.      ]\n",
      "   [  0.         0.         0.      ]\n",
      "   [  0.         0.         0.      ]]\n",
      "\n",
      "  [[  0.         0.         0.      ]\n",
      "   [  0.         0.         0.      ]\n",
      "   [  0.         0.         0.      ]\n",
      "   ...\n",
      "   [  0.         0.         0.      ]\n",
      "   [  0.         0.         0.      ]\n",
      "   [  0.         0.         0.      ]]\n",
      "\n",
      "  ...\n",
      "\n",
      "  [[  0.         0.         0.      ]\n",
      "   [  0.         0.         0.      ]\n",
      "   [  0.         0.         0.      ]\n",
      "   ...\n",
      "   [  0.         0.         0.      ]\n",
      "   [  0.         0.         0.      ]\n",
      "   [  0.         0.         0.      ]]\n",
      "\n",
      "  [[  0.         0.         0.      ]\n",
      "   [  0.         0.         0.      ]\n",
      "   [  0.         0.         0.      ]\n",
      "   ...\n",
      "   [  0.         0.         0.      ]\n",
      "   [  0.         0.         0.      ]\n",
      "   [  0.         0.         0.      ]]\n",
      "\n",
      "  [[  0.         0.         0.      ]\n",
      "   [  0.         0.         0.      ]\n",
      "   [  0.         0.         0.      ]\n",
      "   ...\n",
      "   [  0.         0.         0.      ]\n",
      "   [  0.         0.         0.      ]\n",
      "   [  0.         0.         0.      ]]]\n",
      "\n",
      "\n",
      " [[[104.79082  106.79082  127.79082 ]\n",
      "   [102.05612  104.05612  125.05612 ]\n",
      "   [104.42347  106.42347  127.42347 ]\n",
      "   ...\n",
      "   [ 91.17351   92.17351  112.17351 ]\n",
      "   [102.097015 103.097015 123.097015]\n",
      "   [114.33181  115.33181  135.33182 ]]\n",
      "\n",
      "  [[105.07143  107.07143  128.07143 ]\n",
      "   [102.95408  104.95408  125.95408 ]\n",
      "   [103.19898  105.19898  126.19898 ]\n",
      "   ...\n",
      "   [100.14796  101.14796  121.14796 ]\n",
      "   [100.12755  101.12755  121.12755 ]\n",
      "   [100.20918  101.20918  121.20918 ]]\n",
      "\n",
      "  [[105.88265  107.88265  128.88266 ]\n",
      "   [103.928566 105.928566 126.928566]\n",
      "   [102.33163  104.33163  125.33163 ]\n",
      "   ...\n",
      "   [104.94387  105.94387  125.94387 ]\n",
      "   [ 99.49486  100.49486  120.49486 ]\n",
      "   [ 91.90295   92.90295  112.90295 ]]\n",
      "\n",
      "  ...\n",
      "\n",
      "  [[106.95927  124.95927  148.95926 ]\n",
      "   [116.39288  134.39288  158.39288 ]\n",
      "   [113.550964 131.55096  155.55096 ]\n",
      "   ...\n",
      "   [106.33189  118.33189  142.33188 ]\n",
      "   [103.61734  115.61734  139.61734 ]\n",
      "   [108.57675  120.57675  144.57675 ]]\n",
      "\n",
      "  [[111.22961  129.2296   153.2296  ]\n",
      "   [117.734695 135.7347   159.7347  ]\n",
      "   [110.36733  128.36734  152.36734 ]\n",
      "   ...\n",
      "   [108.556206 120.556206 144.55621 ]\n",
      "   [109.7143   121.7143   145.71431 ]\n",
      "   [116.183846 128.18384  152.18384 ]]\n",
      "\n",
      "  [[106.2703   124.2703   148.27031 ]\n",
      "   [116.06629  134.0663   158.0663  ]\n",
      "   [113.18374  131.18373  155.18373 ]\n",
      "   ...\n",
      "   [103.53032  115.53032  139.53032 ]\n",
      "   [110.91849  122.91849  146.91849 ]\n",
      "   [116.90309  128.90309  152.90309 ]]]\n",
      "\n",
      "\n",
      " [[[115.27041  114.27041  128.27042 ]\n",
      "   [167.91835  166.91835  180.91835 ]\n",
      "   [126.47959  125.47959  139.4796  ]\n",
      "   ...\n",
      "   [157.63316  148.63316  165.63316 ]\n",
      "   [133.48946  124.489456 141.48946 ]\n",
      "   [125.27046  116.27046  133.27046 ]]\n",
      "\n",
      "  [[131.25511  130.25511  144.25511 ]\n",
      "   [151.03572  150.03572  164.03572 ]\n",
      "   [149.97958  148.97958  162.97958 ]\n",
      "   ...\n",
      "   [118.88297  110.09726  126.668686]\n",
      "   [110.80598  102.02026  118.59169 ]\n",
      "   [117.459404 108.67369  125.24512 ]]\n",
      "\n",
      "  [[166.70918  165.70918  179.70918 ]\n",
      "   [121.23979  120.23979  134.23979 ]\n",
      "   [143.46939  142.46939  156.46939 ]\n",
      "   ...\n",
      "   [146.39818  138.39818  153.39818 ]\n",
      "   [128.49979  120.49979  135.49979 ]\n",
      "   [112.09166  104.09166  119.09166 ]]\n",
      "\n",
      "  ...\n",
      "\n",
      "  [[131.79585  124.79585  132.79585 ]\n",
      "   [127.31166  120.31166  128.31166 ]\n",
      "   [155.13765  148.13765  156.13765 ]\n",
      "   ...\n",
      "   [114.06612  104.06612  113.06612 ]\n",
      "   [126.94896  116.94896  125.94896 ]\n",
      "   [117.17852  107.17852  116.17852 ]]\n",
      "\n",
      "  [[164.12784  157.12784  165.12784 ]\n",
      "   [169.52063  162.52063  170.52063 ]\n",
      "   [152.7092   145.7092   153.7092  ]\n",
      "   ...\n",
      "   [116.47494  106.47494  115.47494 ]\n",
      "   [113.612045 103.612045 112.612045]\n",
      "   [102.17315   92.17315  101.17315 ]]\n",
      "\n",
      "  [[124.82052  117.82052  125.82052 ]\n",
      "   [182.0511   175.0511   183.0511  ]\n",
      "   [127.463806 120.463806 128.4638  ]\n",
      "   ...\n",
      "   [120.64814  110.64814  119.64814 ]\n",
      "   [137.30672  127.30671  136.30672 ]\n",
      "   [118.12754  108.12754  117.12754 ]]]\n",
      "\n",
      "\n",
      " ...\n",
      "\n",
      "\n",
      " [[[150.60715  148.60715  153.60715 ]\n",
      "   [143.13776  141.13776  146.13776 ]\n",
      "   [140.01021  138.01021  143.01021 ]\n",
      "   ...\n",
      "   [123.45407  118.45407  124.45407 ]\n",
      "   [142.3216   137.3216   143.3216  ]\n",
      "   [130.39253  125.39253  131.39253 ]]\n",
      "\n",
      "  [[146.12756  144.12756  149.12756 ]\n",
      "   [142.85715  140.85715  145.85715 ]\n",
      "   [146.31122  144.31122  149.31122 ]\n",
      "   ...\n",
      "   [144.3572   139.3572   145.3572  ]\n",
      "   [150.07146  145.07146  151.07146 ]\n",
      "   [117.3157   112.3157   118.3157  ]]\n",
      "\n",
      "  [[162.25     160.25     165.25    ]\n",
      "   [147.84694  145.84694  150.84694 ]\n",
      "   [144.64796  142.64796  147.64796 ]\n",
      "   ...\n",
      "   [132.8927   127.8927   133.8927  ]\n",
      "   [138.37764  133.37764  139.37764 ]\n",
      "   [142.81125  137.81125  143.81125 ]]\n",
      "\n",
      "  ...\n",
      "\n",
      "  [[ 99.12782   99.12782  101.12782 ]\n",
      "   [ 94.49425   94.49425   96.49425 ]\n",
      "   [ 73.35201   73.35201   75.35201 ]\n",
      "   ...\n",
      "   [ 91.744415  90.744415  95.744415]\n",
      "   [108.54114  107.54114  112.54114 ]\n",
      "   [ 78.64182   77.64182   82.64182 ]]\n",
      "\n",
      "  [[ 76.49974   76.49974   78.49974 ]\n",
      "   [ 86.38786   86.38786   88.38786 ]\n",
      "   [ 77.57658   77.57658   79.57658 ]\n",
      "   ...\n",
      "   [ 93.040794  92.040794  97.040794]\n",
      "   [ 86.92834   85.92834   90.92834 ]\n",
      "   [ 98.770905  97.770905 102.770905]]\n",
      "\n",
      "  [[ 69.122475  69.122475  71.122475]\n",
      "   [ 85.75503   85.75503   87.75503 ]\n",
      "   [ 86.42871   86.42871   88.42871 ]\n",
      "   ...\n",
      "   [ 88.836624  87.836624  92.836624]\n",
      "   [ 71.749695  70.749695  75.749695]\n",
      "   [125.879005 124.879005 129.879   ]]]\n",
      "\n",
      "\n",
      " [[[130.20407  124.20408  150.20407 ]\n",
      "   [133.65306  127.65307  153.65306 ]\n",
      "   [137.20918  131.20918  157.20918 ]\n",
      "   ...\n",
      "   [ 98.19398   90.19398  114.19398 ]\n",
      "   [106.01534   98.01534  122.01534 ]\n",
      "   [106.423454  98.423454 122.423454]]\n",
      "\n",
      "  [[130.92857  124.92857  150.92857 ]\n",
      "   [131.90306  125.90306  151.90306 ]\n",
      "   [131.79082  125.79082  151.79082 ]\n",
      "   ...\n",
      "   [102.36742   94.36742  118.36742 ]\n",
      "   [108.30615  100.30615  124.30615 ]\n",
      "   [109.08673  101.08673  125.08673 ]]\n",
      "\n",
      "  [[134.5051   128.5051   154.5051  ]\n",
      "   [136.87245  130.87245  156.87245 ]\n",
      "   [138.7551   132.7551   158.7551  ]\n",
      "   ...\n",
      "   [101.70922   93.70922  117.70922 ]\n",
      "   [103.81123   95.81123  119.81123 ]\n",
      "   [102.47956   94.47956  118.47956 ]]\n",
      "\n",
      "  ...\n",
      "\n",
      "  [[135.89291  127.89292  151.89291 ]\n",
      "   [136.67856  128.67854  152.67856 ]\n",
      "   [138.11215  130.11215  154.11215 ]\n",
      "   ...\n",
      "   [ 91.18339   83.18339  106.18339 ]\n",
      "   [ 94.69905   86.69905  109.69905 ]\n",
      "   [101.928535  93.928535 116.928535]]\n",
      "\n",
      "  [[139.42859  131.42859  155.42859 ]\n",
      "   [137.35716  129.35716  153.35716 ]\n",
      "   [136.29082  128.29082  152.29082 ]\n",
      "   ...\n",
      "   [ 89.6786    81.6786   104.6786  ]\n",
      "   [ 98.724594  90.724594 113.724594]\n",
      "   [ 88.73949   80.73949  103.73949 ]]\n",
      "\n",
      "  [[138.39793  130.39793  154.39793 ]\n",
      "   [142.296    134.296    158.296   ]\n",
      "   [144.40321  136.40321  160.40321 ]\n",
      "   ...\n",
      "   [102.418594  94.418594 117.418594]\n",
      "   [101.316345  93.316345 116.316345]\n",
      "   [104.2555    96.2555   119.2555  ]]]\n",
      "\n",
      "\n",
      " [[[ 89.86224   78.86224  120.86224 ]\n",
      "   [ 93.2602    82.2602   124.2602  ]\n",
      "   [ 89.12755   78.12755  120.12755 ]\n",
      "   ...\n",
      "   [101.494865  92.494865 135.49487 ]\n",
      "   [100.44388   91.44388  134.44388 ]\n",
      "   [102.08677   93.08677  136.08676 ]]\n",
      "\n",
      "  [[ 83.71428   72.71428  114.928566]\n",
      "   [ 88.70918   77.70918  119.92347 ]\n",
      "   [ 89.234695  78.234695 120.44898 ]\n",
      "   ...\n",
      "   [108.25512   99.25512  142.25511 ]\n",
      "   [108.265305  99.265305 142.2653  ]\n",
      "   [107.21427   98.21427  141.21426 ]]\n",
      "\n",
      "  [[ 82.734695  71.734695 114.734695]\n",
      "   [ 87.4949    76.4949   119.4949  ]\n",
      "   [ 90.841835  79.841835 122.841835]\n",
      "   ...\n",
      "   [111.19904  102.19904  145.19904 ]\n",
      "   [114.84185  105.84185  148.84184 ]\n",
      "   [115.35204  106.35204  149.35204 ]]\n",
      "\n",
      "  ...\n",
      "\n",
      "  [[116.31124  133.31125  185.31125 ]\n",
      "   [116.64287  133.64287  185.64287 ]\n",
      "   [116.41328  133.41327  185.41327 ]\n",
      "   ...\n",
      "   [139.05615  150.05615  196.05615 ]\n",
      "   [139.56635  150.56635  196.56635 ]\n",
      "   [140.23982  151.23982  197.23982 ]]\n",
      "\n",
      "  [[117.78572  134.78572  186.78572 ]\n",
      "   [117.61735  134.61736  186.61736 ]\n",
      "   [116.64286  133.64285  185.64285 ]\n",
      "   ...\n",
      "   [141.21431  152.21431  198.21431 ]\n",
      "   [141.57144  152.57144  198.57144 ]\n",
      "   [142.50003  153.50003  199.50003 ]]\n",
      "\n",
      "  [[118.86227  135.86226  187.86226 ]\n",
      "   [117.78571  134.78572  186.78572 ]\n",
      "   [116.64286  133.64285  185.64285 ]\n",
      "   ...\n",
      "   [142.57146  153.57146  199.57146 ]\n",
      "   [143.6582   154.6582   200.6582  ]\n",
      "   [143.9235   154.9235   200.9235  ]]]], shape=(32, 224, 224, 3), dtype=float32) (32, 224, 224, 3)\n",
      "tf.Tensor(\n",
      "[[0. 0. 0. 0. 1. 0.]\n",
      " [0. 1. 0. 0. 0. 0.]\n",
      " [0. 0. 0. 0. 0. 1.]\n",
      " [0. 0. 0. 0. 0. 1.]\n",
      " [0. 0. 0. 1. 0. 0.]\n",
      " [1. 0. 0. 0. 0. 0.]\n",
      " [0. 0. 0. 0. 0. 1.]\n",
      " [0. 0. 0. 0. 0. 1.]\n",
      " [0. 0. 1. 0. 0. 0.]\n",
      " [0. 0. 0. 0. 0. 1.]\n",
      " [0. 0. 1. 0. 0. 0.]\n",
      " [0. 0. 0. 1. 0. 0.]\n",
      " [0. 0. 1. 0. 0. 0.]\n",
      " [0. 0. 1. 0. 0. 0.]\n",
      " [1. 0. 0. 0. 0. 0.]\n",
      " [0. 0. 0. 0. 1. 0.]\n",
      " [0. 0. 0. 0. 0. 1.]\n",
      " [0. 1. 0. 0. 0. 0.]\n",
      " [1. 0. 0. 0. 0. 0.]\n",
      " [0. 0. 0. 0. 1. 0.]\n",
      " [1. 0. 0. 0. 0. 0.]\n",
      " [1. 0. 0. 0. 0. 0.]\n",
      " [0. 1. 0. 0. 0. 0.]\n",
      " [0. 0. 0. 1. 0. 0.]\n",
      " [0. 1. 0. 0. 0. 0.]\n",
      " [0. 0. 1. 0. 0. 0.]\n",
      " [0. 0. 0. 0. 1. 0.]\n",
      " [0. 1. 0. 0. 0. 0.]\n",
      " [0. 1. 0. 0. 0. 0.]\n",
      " [0. 0. 0. 0. 0. 1.]\n",
      " [0. 0. 1. 0. 0. 0.]\n",
      " [0. 1. 0. 0. 0. 0.]], shape=(32, 6), dtype=float32) (32, 6)\n"
     ]
    }
   ],
   "source": [
    "for x,y in training_set:\n",
    "    print(x,x.shape)\n",
    "    print(y,y.shape)\n",
    "    break"
   ]
  },
  {
   "cell_type": "code",
   "execution_count": 66,
   "metadata": {},
   "outputs": [],
   "source": [
    "import numpy as np\n",
    "import pandas as pd\n",
    "import seaborn as sns\n",
    "from tensorflow.keras import models, layers"
   ]
  },
  {
   "cell_type": "code",
   "execution_count": 67,
   "metadata": {},
   "outputs": [],
   "source": [
    "train_ds = training_set.cache().shuffle(1000).prefetch(buffer_size=tf.data.AUTOTUNE)\n",
    "val_ds = validation_set.cache().shuffle(1000).prefetch(buffer_size=tf.data.AUTOTUNE)"
   ]
  },
  {
   "cell_type": "code",
   "execution_count": 68,
   "metadata": {},
   "outputs": [],
   "source": [
    "BATCH_SIZE = 32\n",
    "IMAGE_SIZE = 224\n",
    "CHANNELS=3\n",
    "EPOCHS=50"
   ]
  },
  {
   "cell_type": "code",
   "execution_count": 69,
   "metadata": {},
   "outputs": [],
   "source": [
    "resize_and_rescale = tf.keras.Sequential([\n",
    "  layers.Resizing(IMAGE_SIZE, IMAGE_SIZE),    # Sử dụng trực tiếp layers.Resizing\n",
    "  layers.Rescaling(1./255),                   # Sử dụng trực tiếp layers.Rescaling\n",
    "])"
   ]
  },
  {
   "cell_type": "code",
   "execution_count": 70,
   "metadata": {},
   "outputs": [],
   "source": [
    "data_augmentation = tf.keras.Sequential([\n",
    "  layers.RandomFlip(\"horizontal_and_vertical\"),  # Sử dụng trực tiếp layers.RandomFlip\n",
    "  layers.RandomRotation(0.2),                    # Sử dụng trực tiếp layers.RandomRotation\n",
    "])"
   ]
  },
  {
   "cell_type": "code",
   "execution_count": 71,
   "metadata": {},
   "outputs": [],
   "source": [
    "train_ds = train_ds.map(\n",
    "    lambda x, y: (data_augmentation(x, training=True), y)\n",
    ").prefetch(buffer_size=tf.data.AUTOTUNE)"
   ]
  },
  {
   "cell_type": "markdown",
   "metadata": {},
   "source": [
    "### Building Model"
   ]
  },
  {
   "cell_type": "code",
   "execution_count": 72,
   "metadata": {},
   "outputs": [],
   "source": [
    "from tensorflow.keras.layers import Dense,MaxPool2D,Flatten\n",
    "from tensorflow.keras.layers import Conv2D\n",
    "from tensorflow.keras.models import Sequential"
   ]
  },
  {
   "cell_type": "code",
   "execution_count": 73,
   "metadata": {},
   "outputs": [],
   "source": [
    "model = Sequential()"
   ]
  },
  {
   "cell_type": "markdown",
   "metadata": {},
   "source": [
    "## Building Convolution Layer"
   ]
  },
  {
   "cell_type": "code",
   "execution_count": 74,
   "metadata": {},
   "outputs": [
    {
     "name": "stderr",
     "output_type": "stream",
     "text": [
      "c:\\Users\\HP\\Python311\\Lib\\site-packages\\keras\\src\\layers\\convolutional\\base_conv.py:107: UserWarning: Do not pass an `input_shape`/`input_dim` argument to a layer. When using Sequential models, prefer using an `Input(shape)` object as the first layer in the model instead.\n",
      "  super().__init__(activity_regularizer=activity_regularizer, **kwargs)\n"
     ]
    }
   ],
   "source": [
    "model.add(tf.keras.layers.Conv2D(filters=32,kernel_size=3,padding='same',activation='relu',input_shape=[224,224,3]))\n",
    "model.add(tf.keras.layers.Conv2D(filters=32,kernel_size=3,activation='relu'))\n",
    "model.add(tf.keras.layers.MaxPool2D(pool_size=2,strides=2))\n"
   ]
  },
  {
   "cell_type": "code",
   "execution_count": 75,
   "metadata": {},
   "outputs": [],
   "source": [
    "model.add(tf.keras.layers.Conv2D(filters=64,kernel_size=3,padding='same',activation='relu'))\n",
    "model.add(tf.keras.layers.Conv2D(filters=64,kernel_size=3,activation='relu'))\n",
    "model.add(tf.keras.layers.MaxPool2D(pool_size=2,strides=2))"
   ]
  },
  {
   "cell_type": "code",
   "execution_count": 76,
   "metadata": {},
   "outputs": [],
   "source": [
    "model.add(tf.keras.layers.Conv2D(filters=128,kernel_size=3,padding='same',activation='relu'))\n",
    "model.add(tf.keras.layers.Conv2D(filters=128,kernel_size=3,activation='relu'))\n",
    "model.add(tf.keras.layers.MaxPool2D(pool_size=2,strides=2))"
   ]
  },
  {
   "cell_type": "code",
   "execution_count": 77,
   "metadata": {},
   "outputs": [],
   "source": [
    "model.add(tf.keras.layers.Conv2D(filters=256,kernel_size=3,padding='same',activation='relu'))\n",
    "model.add(tf.keras.layers.Conv2D(filters=256,kernel_size=3,activation='relu'))\n",
    "model.add(tf.keras.layers.MaxPool2D(pool_size=2,strides=2))"
   ]
  },
  {
   "cell_type": "code",
   "execution_count": 78,
   "metadata": {},
   "outputs": [],
   "source": [
    "model.add(tf.keras.layers.Conv2D(filters=512,kernel_size=3,padding='same',activation='relu'))\n",
    "model.add(tf.keras.layers.Conv2D(filters=512,kernel_size=3,activation='relu'))\n",
    "model.add(tf.keras.layers.MaxPool2D(pool_size=2,strides=2))"
   ]
  },
  {
   "cell_type": "code",
   "execution_count": 79,
   "metadata": {},
   "outputs": [],
   "source": [
    "model.add(tf.keras.layers.Dropout(0.25))"
   ]
  },
  {
   "cell_type": "code",
   "execution_count": 80,
   "metadata": {},
   "outputs": [],
   "source": [
    "model.add(tf.keras.layers.Flatten())"
   ]
  },
  {
   "cell_type": "code",
   "execution_count": 81,
   "metadata": {},
   "outputs": [],
   "source": [
    "model.add(Dense(units=1500,activation='relu'))"
   ]
  },
  {
   "cell_type": "code",
   "execution_count": 82,
   "metadata": {},
   "outputs": [],
   "source": [
    "\n",
    "model.add(Dense(units=6,activation='softmax'))"
   ]
  },
  {
   "cell_type": "markdown",
   "metadata": {},
   "source": [
    "### Compiling Model"
   ]
  },
  {
   "cell_type": "code",
   "execution_count": 84,
   "metadata": {},
   "outputs": [],
   "source": [
    "model.compile(\n",
    "    optimizer=tf.keras.optimizers.Adam(learning_rate=0.0001),\n",
    "    loss='categorical_crossentropy',\n",
    "    metrics=['accuracy']\n",
    ")\n",
    "\n",
    "\n",
    "# model.compile(\n",
    "#     optimizer='adam',\n",
    "#     loss='categorical_crossentropy',\n",
    "#     metrics=['accuracy']\n",
    "# )"
   ]
  },
  {
   "cell_type": "code",
   "execution_count": null,
   "metadata": {},
   "outputs": [
    {
     "name": "stdout",
     "output_type": "stream",
     "text": [
      "Model: \"sequential_14\"\n",
      "_________________________________________________________________\n",
      " Layer (type)                Output Shape              Param #   \n",
      "=================================================================\n",
      " conv2d_40 (Conv2D)          (None, 224, 224, 32)      896       \n",
      "                                                                 \n",
      " conv2d_41 (Conv2D)          (None, 222, 222, 32)      9248      \n",
      "                                                                 \n",
      " max_pooling2d_20 (MaxPooli  (None, 111, 111, 32)      0         \n",
      " ng2D)                                                           \n",
      "                                                                 \n",
      " conv2d_42 (Conv2D)          (None, 111, 111, 64)      18496     \n",
      "                                                                 \n",
      " conv2d_43 (Conv2D)          (None, 109, 109, 64)      36928     \n",
      "                                                                 \n",
      " max_pooling2d_21 (MaxPooli  (None, 54, 54, 64)        0         \n",
      " ng2D)                                                           \n",
      "                                                                 \n",
      " conv2d_44 (Conv2D)          (None, 54, 54, 128)       73856     \n",
      "                                                                 \n",
      " conv2d_45 (Conv2D)          (None, 52, 52, 128)       147584    \n",
      "                                                                 \n",
      " max_pooling2d_22 (MaxPooli  (None, 26, 26, 128)       0         \n",
      " ng2D)                                                           \n",
      "                                                                 \n",
      " conv2d_46 (Conv2D)          (None, 26, 26, 256)       295168    \n",
      "                                                                 \n",
      " conv2d_47 (Conv2D)          (None, 24, 24, 256)       590080    \n",
      "                                                                 \n",
      " max_pooling2d_23 (MaxPooli  (None, 12, 12, 256)       0         \n",
      " ng2D)                                                           \n",
      "                                                                 \n",
      " conv2d_48 (Conv2D)          (None, 12, 12, 512)       1180160   \n",
      "                                                                 \n",
      " conv2d_49 (Conv2D)          (None, 10, 10, 512)       2359808   \n",
      "                                                                 \n",
      " max_pooling2d_24 (MaxPooli  (None, 5, 5, 512)         0         \n",
      " ng2D)                                                           \n",
      "                                                                 \n",
      " dropout_8 (Dropout)         (None, 5, 5, 512)         0         \n",
      "                                                                 \n",
      " flatten_4 (Flatten)         (None, 12800)             0         \n",
      "                                                                 \n",
      " dense_9 (Dense)             (None, 1500)              19201500  \n",
      "                                                                 \n",
      " dropout_9 (Dropout)         (None, 1500)              0         \n",
      "                                                                 \n",
      " dense_10 (Dense)            (None, 6)                 9006      \n",
      "                                                                 \n",
      "=================================================================\n",
      "Total params: 23922730 (91.26 MB)\n",
      "Trainable params: 23922730 (91.26 MB)\n",
      "Non-trainable params: 0 (0.00 Byte)\n",
      "_________________________________________________________________\n"
     ]
    }
   ],
   "source": [
    "model.summary()"
   ]
  },
  {
   "cell_type": "markdown",
   "metadata": {},
   "source": [
    "### Model Training"
   ]
  },
  {
   "cell_type": "code",
   "execution_count": null,
   "metadata": {},
   "outputs": [
    {
     "name": "stdout",
     "output_type": "stream",
     "text": [
      "Epoch 1/20\n",
      "344/344 [==============================] - 1556s 4s/step - loss: 0.9225 - accuracy: 0.6577 - val_loss: 0.6333 - val_accuracy: 0.7956\n",
      "Epoch 2/20\n",
      "344/344 [==============================] - 1495s 4s/step - loss: 0.4018 - accuracy: 0.8536 - val_loss: 0.5854 - val_accuracy: 0.8228\n",
      "Epoch 3/20\n",
      "344/344 [==============================] - 1487s 4s/step - loss: 0.2861 - accuracy: 0.9045 - val_loss: 0.2612 - val_accuracy: 0.9082\n",
      "Epoch 4/20\n",
      "344/344 [==============================] - 1476s 4s/step - loss: 0.2240 - accuracy: 0.9229 - val_loss: 0.1832 - val_accuracy: 0.9383\n",
      "Epoch 5/20\n",
      "344/344 [==============================] - 1477s 4s/step - loss: 0.1547 - accuracy: 0.9463 - val_loss: 0.2005 - val_accuracy: 0.9279\n",
      "Epoch 6/20\n",
      "344/344 [==============================] - 1499s 4s/step - loss: 0.1609 - accuracy: 0.9491 - val_loss: 0.2300 - val_accuracy: 0.9326\n",
      "Epoch 7/20\n",
      "344/344 [==============================] - 1497s 4s/step - loss: 0.1210 - accuracy: 0.9593 - val_loss: 0.1343 - val_accuracy: 0.9519\n",
      "Epoch 8/20\n",
      "344/344 [==============================] - 1503s 4s/step - loss: 0.1263 - accuracy: 0.9556 - val_loss: 0.1389 - val_accuracy: 0.9588\n",
      "Epoch 9/20\n",
      "344/344 [==============================] - 1498s 4s/step - loss: 0.0910 - accuracy: 0.9691 - val_loss: 0.3647 - val_accuracy: 0.9006\n",
      "Epoch 10/20\n",
      "344/344 [==============================] - 1505s 4s/step - loss: 0.0844 - accuracy: 0.9708 - val_loss: 0.2304 - val_accuracy: 0.9326\n",
      "Epoch 11/20\n",
      "344/344 [==============================] - 1506s 4s/step - loss: 0.0887 - accuracy: 0.9710 - val_loss: 0.1656 - val_accuracy: 0.9519\n",
      "Epoch 12/20\n",
      "344/344 [==============================] - 1494s 4s/step - loss: 0.0829 - accuracy: 0.9721 - val_loss: 0.1192 - val_accuracy: 0.9570\n",
      "Epoch 13/20\n",
      "344/344 [==============================] - 1500s 4s/step - loss: 0.0540 - accuracy: 0.9823 - val_loss: 0.1193 - val_accuracy: 0.9588\n",
      "Epoch 14/20\n",
      "344/344 [==============================] - 1510s 4s/step - loss: 0.0649 - accuracy: 0.9794 - val_loss: 0.1514 - val_accuracy: 0.9598\n",
      "Epoch 15/20\n",
      "344/344 [==============================] - 1535s 4s/step - loss: 0.0622 - accuracy: 0.9786 - val_loss: 0.3716 - val_accuracy: 0.9035\n",
      "Epoch 16/20\n",
      "344/344 [==============================] - 1499s 4s/step - loss: 0.0728 - accuracy: 0.9756 - val_loss: 0.0875 - val_accuracy: 0.9760\n",
      "Epoch 17/20\n",
      "344/344 [==============================] - 1498s 4s/step - loss: 0.0462 - accuracy: 0.9850 - val_loss: 0.2246 - val_accuracy: 0.9419\n",
      "Epoch 18/20\n",
      "344/344 [==============================] - 1503s 4s/step - loss: 0.0497 - accuracy: 0.9836 - val_loss: 0.0579 - val_accuracy: 0.9785\n",
      "Epoch 19/20\n",
      "344/344 [==============================] - 1459s 4s/step - loss: 0.0731 - accuracy: 0.9773 - val_loss: 0.2146 - val_accuracy: 0.9319\n",
      "Epoch 20/20\n",
      "344/344 [==============================] - 1607s 5s/step - loss: 0.0527 - accuracy: 0.9832 - val_loss: 0.1651 - val_accuracy: 0.9509\n"
     ]
    }
   ],
   "source": [
    "# training_history=model.fit(x=training_set,validation_data=validation_set,epochs=10)\n",
    "history = model.fit(\n",
    "    train_ds,\n",
    "    batch_size=BATCH_SIZE,\n",
    "    validation_data=val_ds,\n",
    "    verbose=1,\n",
    "    epochs=20,\n",
    ")"
   ]
  },
  {
   "cell_type": "markdown",
   "metadata": {},
   "source": [
    "### Model Evaluation"
   ]
  },
  {
   "cell_type": "code",
   "execution_count": null,
   "metadata": {},
   "outputs": [
    {
     "name": "stdout",
     "output_type": "stream",
     "text": [
      "344/344 [==============================] - 397s 1s/step - loss: 0.1664 - accuracy: 0.9456\n"
     ]
    }
   ],
   "source": [
    "train_loss, train_acc=model.evaluate(training_set)"
   ]
  },
  {
   "cell_type": "code",
   "execution_count": null,
   "metadata": {},
   "outputs": [
    {
     "name": "stdout",
     "output_type": "stream",
     "text": [
      "344/344 [==============================] - 357s 1s/step - loss: 0.1664 - accuracy: 0.9456\n",
      "Training accuracy: 0.945601761341095\n",
      "88/88 [==============================] - 87s 977ms/step - loss: 0.1651 - accuracy: 0.9509\n",
      "Validation accuracy: 0.950860857963562\n"
     ]
    }
   ],
   "source": [
    "#Training set Accuracy\n",
    "train_loss, train_acc = model.evaluate(training_set)\n",
    "print('Training accuracy:', train_acc)\n",
    "#Validation set Accuracy\n",
    "val_loss, val_acc = model.evaluate(validation_set)\n",
    "print('Validation accuracy:', val_acc)"
   ]
  },
  {
   "cell_type": "code",
   "execution_count": null,
   "metadata": {},
   "outputs": [
    {
     "name": "stdout",
     "output_type": "stream",
     "text": [
      "88/88 [==============================] - 85s 966ms/step - loss: 0.1651 - accuracy: 0.9509\n",
      "Validation accuracy: 0.950860857963562\n"
     ]
    }
   ],
   "source": [
    "\n",
    "#Validation set Accuracy\n",
    "val_loss, val_acc = model.evaluate(validation_set)\n",
    "print('Validation accuracy:', val_acc)\n"
   ]
  },
  {
   "cell_type": "markdown",
   "metadata": {},
   "source": [
    "### Saving Model"
   ]
  },
  {
   "cell_type": "code",
   "execution_count": null,
   "metadata": {},
   "outputs": [],
   "source": [
    "model.save(\"trained_model.keras\")\n",
    "#lưu toàn bộ mô hình đã được huấn luyện vào một file để có thể tái sử dụng sau này mà không cần huấn luyện lại."
   ]
  },
  {
   "cell_type": "markdown",
   "metadata": {},
   "source": [
    "### Accuracy Visualization"
   ]
  },
  {
   "cell_type": "code",
   "execution_count": null,
   "metadata": {},
   "outputs": [],
   "source": [
    "\n",
    "# epochs = [i for i in range(1,11)]\n",
    "# plt.plot(epochs,training_history.history['accuracy'],color='red',label='Training Accuracy')\n",
    "# plt.plot(epochs,training_history.history['val_accuracy'],color='blue',label='Validation Accuracy')\n",
    "# plt.xlabel('No. of Epochs')\n",
    "# plt.title('Visualization of Accuracy Result')\n",
    "# plt.legend()\n",
    "# plt.show()\n",
    "\n",
    "acc = history.history['accuracy']\n",
    "val_acc = history.history['val_accuracy']\n",
    "\n",
    "loss = history.history['loss']\n",
    "val_loss = history.history['val_loss']"
   ]
  },
  {
   "cell_type": "code",
   "execution_count": null,
   "metadata": {},
   "outputs": [
    {
     "data": {
      "image/png": "[encoded data removed]",
      "text/plain": [
       "<Figure size 800x800 with 2 Axes>"
      ]
     },
     "metadata": {},
     "output_type": "display_data"
    }
   ],
   "source": [
    "plt.figure(figsize=(8, 8))\n",
    "plt.subplot(1, 2, 1)\n",
    "plt.plot(range(20), acc, label='Training Accuracy')\n",
    "plt.plot(range(20), val_acc, label='Validation Accuracy')\n",
    "plt.legend(loc='lower right')\n",
    "plt.title('Training and Validation Accuracy')\n",
    "\n",
    "plt.subplot(1, 2, 2)\n",
    "plt.plot(range(20), loss, label='Training Loss')\n",
    "plt.plot(range(20), val_loss, label='Validation Loss')\n",
    "plt.legend(loc='upper right')\n",
    "plt.title('Training and Validation Loss')\n",
    "plt.show()"
   ]
  },
  {
   "cell_type": "markdown",
   "metadata": {},
   "source": [
    "### Some other metrics for model evaluation"
   ]
  },
  {
   "cell_type": "code",
   "execution_count": null,
   "metadata": {},
   "outputs": [],
   "source": [
    "class_name = validation_set.class_names"
   ]
  },
  {
   "cell_type": "code",
   "execution_count": null,
   "metadata": {},
   "outputs": [
    {
     "name": "stdout",
     "output_type": "stream",
     "text": [
      "Found 2788 files belonging to 6 classes.\n"
     ]
    }
   ],
   "source": [
    "test_set = tf.keras.utils.image_dataset_from_directory(\n",
    "    'data/val',\n",
    "    labels=\"inferred\",\n",
    "    label_mode=\"categorical\",\n",
    "    class_names=None,\n",
    "    color_mode=\"rgb\",\n",
    "    batch_size=1,\n",
    "    image_size=(224, 224),\n",
    "    shuffle=False,\n",
    "    seed=None,\n",
    "    validation_split=None,\n",
    "    subset=None,\n",
    "    interpolation=\"bilinear\",\n",
    "    follow_links=False,\n",
    "    crop_to_aspect_ratio=False\n",
    ")"
   ]
  },
  {
   "cell_type": "code",
   "execution_count": null,
   "metadata": {},
   "outputs": [],
   "source": [
    "true_categories = tf.concat([y for x, y in test_set], axis=0)\n",
    "Y_true = tf.argmax(true_categories, axis=1)"
   ]
  },
  {
   "cell_type": "code",
   "execution_count": null,
   "metadata": {},
   "outputs": [
    {
     "data": {
      "text/plain": [
       "<tf.Tensor: shape=(2788,), dtype=int64, numpy=array([0, 0, 0, ..., 5, 5, 5], dtype=int64)>"
      ]
     },
     "execution_count": 159,
     "metadata": {},
     "output_type": "execute_result"
    }
   ],
   "source": [
    "Y_true"
   ]
  },
  {
   "cell_type": "code",
   "execution_count": null,
   "metadata": {},
   "outputs": [],
   "source": [
    "y_pred = model.predict(test_set)\n",
    "predicted_categories = tf.argmax(y_pred, axis=1)"
   ]
  },
  {
   "cell_type": "code",
   "execution_count": null,
   "metadata": {},
   "outputs": [],
   "source": [
    "from sklearn.metrics import confusion_matrix,classification_report\n",
    "cm = confusion_matrix(Y_true,predicted_categories)"
   ]
  },
  {
   "cell_type": "code",
   "execution_count": null,
   "metadata": {},
   "outputs": [
    {
     "data": {
      "text/plain": [
       "array([[426,   4,  26,   3,   3,   1],\n",
       "       [  0, 387,  56,   0,  27,   0],\n",
       "       [  2,   0, 428,   0,   5,   1],\n",
       "       [  1,   0,   1, 485,   3,   0],\n",
       "       [  0,   0,   0,   0, 448,   0],\n",
       "       [  2,   0,   1,   0,   1, 477]], dtype=int64)"
      ]
     },
     "execution_count": 163,
     "metadata": {},
     "output_type": "execute_result"
    }
   ],
   "source": [
    "cm"
   ]
  },
  {
   "cell_type": "code",
   "execution_count": null,
   "metadata": {},
   "outputs": [
    {
     "name": "stdout",
     "output_type": "stream",
     "text": [
      "                                        precision    recall  f1-score   support\n",
      "\n",
      "                  Tomato___Late_blight       0.99      0.92      0.95       463\n",
      "                    Tomato___Leaf_Mold       0.99      0.82      0.90       470\n",
      "           Tomato___Septoria_leaf_spot       0.84      0.98      0.90       436\n",
      "Tomato___Tomato_Yellow_Leaf_Curl_Virus       0.99      0.99      0.99       490\n",
      "          Tomato___Tomato_mosaic_virus       0.92      1.00      0.96       448\n",
      "                      Tomato___healthy       1.00      0.99      0.99       481\n",
      "\n",
      "                              accuracy                           0.95      2788\n",
      "                             macro avg       0.95      0.95      0.95      2788\n",
      "                          weighted avg       0.96      0.95      0.95      2788\n",
      "\n"
     ]
    }
   ],
   "source": [
    "# Precision Recall Fscore\n",
    "print(classification_report(Y_true,predicted_categories,target_names=class_name))"
   ]
  },
  {
   "cell_type": "markdown",
   "metadata": {},
   "source": [
    "### Save TFLITE"
   ]
  },
  {
   "cell_type": "code",
   "execution_count": null,
   "metadata": {},
   "outputs": [
    {
     "name": "stdout",
     "output_type": "stream",
     "text": [
      "INFO:tensorflow:Assets written to: C:\\Users\\HP\\AppData\\Local\\Temp\\tmpijs7yvyc\\assets\n"
     ]
    },
    {
     "name": "stderr",
     "output_type": "stream",
     "text": [
      "INFO:tensorflow:Assets written to: C:\\Users\\HP\\AppData\\Local\\Temp\\tmpijs7yvyc\\assets\n"
     ]
    }
   ],
   "source": [
    "converter=tf.lite.TFLiteConverter.from_keras_model(model)\n",
    "tflite_model=converter.convert()\n",
    "\n",
    "with open(\"model_unquant.tflite\",\"wb\") as f:\n",
    "    f.write(tflite_model)"
   ]
  }
 ],
 "metadata": {
  "kernelspec": {
   "display_name": "Python 3",
   "language": "python",
   "name": "python3"
  },
  "language_info": {
   "codemirror_mode": {
    "name": "ipython",
    "version": 3
   },
   "file_extension": ".py",
   "mimetype": "text/x-python",
   "name": "python",
   "nbconvert_exporter": "python",
   "pygments_lexer": "ipython3",
   "version": "3.11.5"
  }
 },
 "nbformat": 4,
 "nbformat_minor": 4
}
